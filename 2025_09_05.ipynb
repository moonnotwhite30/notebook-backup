{
 "cells": [
  {
   "cell_type": "code",
   "execution_count": null,
   "id": "f8c16b61",
   "metadata": {},
   "outputs": [],
   "source": [
    "#===========================================================#\n",
    "#####################总体思路梳理############################\n",
    "#===========================================================#\n",
    "####################模块1：fsefsefsefse"
   ]
  },
  {
   "cell_type": "code",
   "execution_count": null,
   "id": "8bda46a9",
   "metadata": {},
   "outputs": [],
   "source": []
  }
 ],
 "metadata": {
  "language_info": {
   "name": "python"
  }
 },
 "nbformat": 4,
 "nbformat_minor": 5
}
