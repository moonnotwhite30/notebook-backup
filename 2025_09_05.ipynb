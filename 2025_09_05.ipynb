{
 "cells": [
  {
   "cell_type": "code",
   "execution_count": null,
   "id": "f8c16b61",
   "metadata": {},
   "outputs": [],
   "source": [
    "###关于数据的保存：在bash运行——./save.sh \"这里写修改说明\"###\n",
    "\n",
    "#===========================================================#\n",
    "#####################总体思路梳理############################\n",
    "#===========================================================#\n",
    "##################模块一：得到目标论文序列####################\n",
    "#STEP1————匹配\n",
    "#将论文引用关系原始数据与撤稿论文序列进行匹配，目的是得到所有引用了撤稿论文的论文\n",
    "\n",
    "\n"
   ]
  },
  {
   "cell_type": "markdown",
   "id": "8ce2f15a",
   "metadata": {},
   "source": [
    "# 前期准备模块"
   ]
  },
  {
   "cell_type": "markdown",
   "id": "f62c912b",
   "metadata": {},
   "source": [
    "## 库的导入"
   ]
  },
  {
   "cell_type": "code",
   "execution_count": 3,
   "id": "7583becd",
   "metadata": {},
   "outputs": [],
   "source": [
    "###########################这一单元模块专门用于导入需要用到的库####################################\n",
    "\n",
    "import pandas as pd #基础的数据处理\n",
    "import os \n",
    "#Python 中的一条指令，用于导入内置的os模块。\n",
    "#os模块提供了与操作系统交互的功能，允许你执行文件和目录的操作\n",
    "#如路径管理、文件创建、删除等\n",
    "import json #用于处理json数据的库\n",
    "from tqdm import tqdm\n",
    "import math # 用于检测 NaN\n",
    "from collections import Counter #Python标准库collections里的的工具，用来统计元素出现的次数\n",
    "from collections import defaultdict \n",
    "'''\n",
    "collections 是 Python 自带的一个模块，\n",
    "里面提供了许多有用的容器数据类型，比如 Counter、deque、namedtuple、defaultdict 等。\n",
    "defaultdict 是一个字典的子类，它和普通字典类似，\n",
    "但当你访问一个不存在的键时，它会自动帮你创建一个默认值，而不是抛出 KeyError。\n",
    "'''\n",
    "import numpy as np\n",
    "import seaborn as sns\n",
    "import matplotlib.pyplot as plt\n",
    "import ast"
   ]
  },
  {
   "cell_type": "markdown",
   "id": "f3b2052e",
   "metadata": {},
   "source": [
    "## 查看大体量数据的前十行（CSV/EXCEL/JSON）"
   ]
  },
  {
   "cell_type": "code",
   "execution_count": null,
   "id": "1352431e",
   "metadata": {},
   "outputs": [],
   "source": [
    "###########数据前10行展示##############\n",
    "######用来判断太大数据的数据结构########\n",
    "#CSV文件：\n",
    "file_csv = '/Data1/DATA/Dimensions2024/20240101/Papers.csv'\n",
    "df_csv = pd.read_csv(file_csv, nrows=10)\n",
    "df_csv"
   ]
  },
  {
   "cell_type": "code",
   "execution_count": null,
   "id": "ee030a2e",
   "metadata": {},
   "outputs": [],
   "source": [
    "#EXCEL文件：\n",
    "file_excel = ''\n",
    "df_excel = pd.read_excel(file_excel, nrows=10)\n",
    "df_excel"
   ]
  },
  {
   "cell_type": "code",
   "execution_count": null,
   "id": "cda25dad",
   "metadata": {},
   "outputs": [],
   "source": [
    "#JSON文件：\n",
    "file_json = 'JSON文件路径.json'\n",
    "df_json = pd.read_json(file_json)\n",
    "df_json"
   ]
  },
  {
   "cell_type": "markdown",
   "id": "0f3952f3",
   "metadata": {},
   "source": [
    "## 查看CSV文件列名"
   ]
  },
  {
   "cell_type": "code",
   "execution_count": null,
   "id": "69bc1f2e",
   "metadata": {},
   "outputs": [],
   "source": [
    "#看df文件的列名\n",
    "print(NewE_C_10_10 .columns)"
   ]
  },
  {
   "cell_type": "markdown",
   "id": "27e69647",
   "metadata": {},
   "source": [
    "# 模块一：得到目标论文序列"
   ]
  },
  {
   "cell_type": "markdown",
   "id": "9ec95b8d",
   "metadata": {},
   "source": [
    "## STEP1——匹配所有引用了撤稿论文的文献序列df_containretra"
   ]
  },
  {
   "cell_type": "code",
   "execution_count": null,
   "id": "8bda46a9",
   "metadata": {},
   "outputs": [],
   "source": [
    "#这个部分需要两个原始数据\n",
    "#（1）原始数据1：论文与其参考文献的对应关系（/Data1/DATA/Dimensions2024/20240101/PaperReferences.csv）\n",
    "'''\n",
    "df数据结构：\n",
    "    id\t            reference_ids\n",
    "0\tpub.1038660625\tpub.1043519304\n",
    "1\tpub.1038660625\tpub.1012015875\n",
    "2\tpub.1038660625\tpub.1031233780\n",
    "3\tpub.1038660625\tpub.1027495706\n",
    "'''\n",
    "#（2）原始数据2：4w篇撤稿论文的原始数据（/Data4/yutao_wen/matched_output2.csv）\n",
    "'''\n",
    "df数据结构（列名与数据类型）\n",
    "Index(['UT', 'Paper_doi', 'Note_doi', 'Title', 'Journal', 'ISOAbbr',\n",
    "       'Publisher', 'Article', 'Review', 'Institute', 'City', 'Country',\n",
    "       'First', 'RP', 'Micro_topics', 'Meso_topics', 'Macro_topics', '3Years',\n",
    "       '5Years', 'Total', 'Fund', 'Year', 'RYear', 'publish_date',\n",
    "       'retraction_date', 'Open Access', 'Tags', 'Type', 'note_URL', 'Authors',\n",
    "       'Addresses', 'Affiliations', 'PaperID', 'id', 'title', 'doi', 'date',\n",
    "       'journal.id'],\n",
    "      dtype='object')\n",
    "'''\n"
   ]
  },
  {
   "cell_type": "markdown",
   "id": "76768c76",
   "metadata": {},
   "source": [
    "### 原始数据1与2的导入——30MIN"
   ]
  },
  {
   "cell_type": "code",
   "execution_count": 2,
   "id": "b80da034",
   "metadata": {},
   "outputs": [],
   "source": [
    "#先将两个原始文件都导入内核中\n",
    "original_file1 = '/Data1/DATA/Dimensions2024/20240101/PaperReferences.csv'\n",
    "df_references = pd.read_csv(original_file1)\n",
    "original_file2 = '/Data4/yutao_wen/matched_output2.csv'\n",
    "df_retrapapers = pd.read_csv(original_file2)\n",
    "#time约30min"
   ]
  },
  {
   "cell_type": "markdown",
   "id": "b21259db",
   "metadata": {},
   "source": [
    "### 使用布尔索引匹配2个df——12MIN"
   ]
  },
  {
   "cell_type": "code",
   "execution_count": 3,
   "id": "f230220f",
   "metadata": {},
   "outputs": [],
   "source": [
    "# 保证reference_ids和撤稿论文id列的数据类型一致（通常为字符串）\n",
    "df_references['reference_ids'] = df_references['reference_ids'].astype(str)\n",
    "df_retrapapers['id'] = df_retrapapers['id'].astype(str)\n",
    "\n",
    "# 使用布尔索引保留reference_ids出现在撤稿论文id中的行\n",
    "df_containretra = df_references[df_references['reference_ids'].isin(df_retrapapers['id'])].copy()\n",
    "#time约12min"
   ]
  },
  {
   "cell_type": "markdown",
   "id": "9654b6a1",
   "metadata": {},
   "source": [
    "### 匹配产出文件df_containretra预览"
   ]
  },
  {
   "cell_type": "code",
   "execution_count": 5,
   "id": "8b158bb2",
   "metadata": {},
   "outputs": [
    {
     "data": {
      "text/html": [
       "<div>\n",
       "<style scoped>\n",
       "    .dataframe tbody tr th:only-of-type {\n",
       "        vertical-align: middle;\n",
       "    }\n",
       "\n",
       "    .dataframe tbody tr th {\n",
       "        vertical-align: top;\n",
       "    }\n",
       "\n",
       "    .dataframe thead th {\n",
       "        text-align: right;\n",
       "    }\n",
       "</style>\n",
       "<table border=\"1\" class=\"dataframe\">\n",
       "  <thead>\n",
       "    <tr style=\"text-align: right;\">\n",
       "      <th></th>\n",
       "      <th>id</th>\n",
       "      <th>reference_ids</th>\n",
       "    </tr>\n",
       "  </thead>\n",
       "  <tbody>\n",
       "    <tr>\n",
       "      <th>0</th>\n",
       "      <td>pub.1148484199</td>\n",
       "      <td>pub.1013663776</td>\n",
       "    </tr>\n",
       "    <tr>\n",
       "      <th>1</th>\n",
       "      <td>pub.1128687208</td>\n",
       "      <td>pub.1003140261</td>\n",
       "    </tr>\n",
       "    <tr>\n",
       "      <th>2</th>\n",
       "      <td>pub.1148009542</td>\n",
       "      <td>pub.1146057724</td>\n",
       "    </tr>\n",
       "    <tr>\n",
       "      <th>3</th>\n",
       "      <td>pub.1114696738</td>\n",
       "      <td>pub.1026667060</td>\n",
       "    </tr>\n",
       "    <tr>\n",
       "      <th>4</th>\n",
       "      <td>pub.1114902564</td>\n",
       "      <td>pub.1028915017</td>\n",
       "    </tr>\n",
       "    <tr>\n",
       "      <th>...</th>\n",
       "      <td>...</td>\n",
       "      <td>...</td>\n",
       "    </tr>\n",
       "    <tr>\n",
       "      <th>765834</th>\n",
       "      <td>pub.1134201694</td>\n",
       "      <td>pub.1113603600</td>\n",
       "    </tr>\n",
       "    <tr>\n",
       "      <th>765835</th>\n",
       "      <td>pub.1016972058</td>\n",
       "      <td>pub.1008362454</td>\n",
       "    </tr>\n",
       "    <tr>\n",
       "      <th>765836</th>\n",
       "      <td>pub.1085464507</td>\n",
       "      <td>pub.1039593849</td>\n",
       "    </tr>\n",
       "    <tr>\n",
       "      <th>765837</th>\n",
       "      <td>pub.1124870274</td>\n",
       "      <td>pub.1124369222</td>\n",
       "    </tr>\n",
       "    <tr>\n",
       "      <th>765838</th>\n",
       "      <td>pub.1022784437</td>\n",
       "      <td>pub.1037698336</td>\n",
       "    </tr>\n",
       "  </tbody>\n",
       "</table>\n",
       "<p>765839 rows × 2 columns</p>\n",
       "</div>"
      ],
      "text/plain": [
       "                    id   reference_ids\n",
       "0       pub.1148484199  pub.1013663776\n",
       "1       pub.1128687208  pub.1003140261\n",
       "2       pub.1148009542  pub.1146057724\n",
       "3       pub.1114696738  pub.1026667060\n",
       "4       pub.1114902564  pub.1028915017\n",
       "...                ...             ...\n",
       "765834  pub.1134201694  pub.1113603600\n",
       "765835  pub.1016972058  pub.1008362454\n",
       "765836  pub.1085464507  pub.1039593849\n",
       "765837  pub.1124870274  pub.1124369222\n",
       "765838  pub.1022784437  pub.1037698336\n",
       "\n",
       "[765839 rows x 2 columns]"
      ]
     },
     "execution_count": 5,
     "metadata": {},
     "output_type": "execute_result"
    }
   ],
   "source": [
    "df_containretra"
   ]
  },
  {
   "cell_type": "markdown",
   "id": "ca4bad5a",
   "metadata": {},
   "source": [
    "### 匹配文件保存备份"
   ]
  },
  {
   "cell_type": "code",
   "execution_count": 6,
   "id": "93f19148",
   "metadata": {},
   "outputs": [],
   "source": [
    "output_path = '/Data4/yutao_wen/25.9.17/df_containretra.csv'\n",
    "# 保存为 CSV 文件\n",
    "df_containretra.to_csv(output_path, index=False)"
   ]
  },
  {
   "cell_type": "markdown",
   "id": "554d78be",
   "metadata": {},
   "source": [
    "### 导入df_containretra文件"
   ]
  },
  {
   "cell_type": "code",
   "execution_count": 29,
   "id": "b74507e7",
   "metadata": {},
   "outputs": [],
   "source": [
    "df_containretra = pd.read_csv(\"/Data4/yutao_wen/25.9.17/df_containretra.csv\")"
   ]
  },
  {
   "cell_type": "markdown",
   "id": "7b1a3128",
   "metadata": {},
   "source": [
    "## STEP2——匹配撤稿论文/目标论文原始信息"
   ]
  },
  {
   "cell_type": "code",
   "execution_count": null,
   "id": "cdeb3c5c",
   "metadata": {},
   "outputs": [],
   "source": [
    "#撤稿论文主要是两个关键年份（发表/撤稿）以及期刊id较为重要————来源于matched_output2\n",
    "#（1）RPYear：被引用的撤稿论文的发表年份\n",
    "#（2）RYear：被引用的撤稿论文的撤稿年份\n",
    "#（3）RJournal_id：被引用的撤稿论文的期刊ID\n",
    "#目标论文主要是发表年份与期刊id较为重要————来源于Papers.csv\n",
    "#（1）Year：目标论文的发表年份\n",
    "#（2）Journal_id：目标论文的期刊ID"
   ]
  },
  {
   "cell_type": "markdown",
   "id": "2d3b624b",
   "metadata": {},
   "source": [
    "### 原始数据2导入"
   ]
  },
  {
   "cell_type": "code",
   "execution_count": 30,
   "id": "56572be4",
   "metadata": {},
   "outputs": [],
   "source": [
    "original_file2 = '/Data4/yutao_wen/matched_output2.csv'\n",
    "df_retrapapers = pd.read_csv(original_file2)"
   ]
  },
  {
   "cell_type": "markdown",
   "id": "a31424c9",
   "metadata": {},
   "source": [
    "### 匹配撤稿论文RPYear、RYear、RJournal_id"
   ]
  },
  {
   "cell_type": "code",
   "execution_count": 31,
   "id": "a759c27f",
   "metadata": {},
   "outputs": [],
   "source": [
    "#从 df_retrapapers 中选择需要匹配的列，并改列名\n",
    "df_retra_subset = df_retrapapers[['id', 'Year', 'RYear', 'journal.id']].copy()\n",
    "df_retra_subset = df_retra_subset.rename(columns={\n",
    "    'id': 'reference_ids',\n",
    "    'Year': 'RPYear',\n",
    "    'RYear': 'RYear',\n",
    "    'journal.id': 'RJournal_id'\n",
    "})\n",
    "\n",
    "# 第三步：将信息 merge 到 df_containretra 中\n",
    "df_containretra = df_containretra.merge(df_retra_subset, on='reference_ids', how='left')"
   ]
  },
  {
   "cell_type": "markdown",
   "id": "b6558499",
   "metadata": {},
   "source": [
    "### 原始数据3导入——10min"
   ]
  },
  {
   "cell_type": "code",
   "execution_count": 11,
   "id": "4e43c12a",
   "metadata": {},
   "outputs": [],
   "source": [
    "# 此时需要第三个原始文件：Papers.csv文件\n",
    "# 其蕴含了数据库所有论文的各种信息\n",
    "original_file3 = '/Data1/DATA/Dimensions2024/20240101/Papers.csv'\n",
    "'''\n",
    "数据结构：\n",
    "Index(['id', 'title', 'doi', 'date', 'date_inserted', 'date_normal',\n",
    "       'date_online', 'date_print', 'type', 'journal.id', 'journal.title',\n",
    "       'times_cited', 'num_funds', 'num_authors', 'num_references', 'field_l0',\n",
    "       'field_l1', 'resulting_publication_doi'],\n",
    "      dtype='object')\n",
    "\n",
    "'''\n",
    "#获取目标论文的Year与Journal.id\n",
    "df_papers = pd.read_csv(original_file3,usecols=['id', 'date_normal','journal.id'])\n",
    "#time约10min"
   ]
  },
  {
   "cell_type": "markdown",
   "id": "76261a60",
   "metadata": {},
   "source": [
    "### 详细年月日date提取年份Year"
   ]
  },
  {
   "cell_type": "code",
   "execution_count": 12,
   "id": "b69db631",
   "metadata": {},
   "outputs": [],
   "source": [
    "# 提取年份（ date 格式如 '2019-03-15'）\n",
    "df_papers['Year'] = pd.to_datetime(df_papers['date_normal'], errors='coerce').dt.year"
   ]
  },
  {
   "cell_type": "markdown",
   "id": "5c8e3dae",
   "metadata": {},
   "source": [
    "### 匹配目标论文Year、Journal.id——4MIN"
   ]
  },
  {
   "cell_type": "code",
   "execution_count": 32,
   "id": "17b0ccae",
   "metadata": {},
   "outputs": [],
   "source": [
    "# 只选择需要的列，重命名 'journal.id' 为 'Journal_id'\n",
    "df_papers_subset = df_papers[['id', 'Year','journal.id']].rename(columns={'journal.id': 'Journal_id'})\n",
    "\n",
    "# 合并，添加 Journal_id 列\n",
    "df_containretra = df_containretra.merge(df_papers_subset, on='id', how='left')"
   ]
  },
  {
   "cell_type": "code",
   "execution_count": 36,
   "id": "2f010c39",
   "metadata": {},
   "outputs": [],
   "source": [
    "# 调整列顺序\n",
    "df_containretra = df_containretra[['id', 'reference_ids', 'Year', 'Journal_id', 'RPYear', 'RYear', 'RJournal_id']]\n"
   ]
  },
  {
   "cell_type": "code",
   "execution_count": 37,
   "id": "ae99c979",
   "metadata": {},
   "outputs": [
    {
     "data": {
      "text/html": [
       "<div>\n",
       "<style scoped>\n",
       "    .dataframe tbody tr th:only-of-type {\n",
       "        vertical-align: middle;\n",
       "    }\n",
       "\n",
       "    .dataframe tbody tr th {\n",
       "        vertical-align: top;\n",
       "    }\n",
       "\n",
       "    .dataframe thead th {\n",
       "        text-align: right;\n",
       "    }\n",
       "</style>\n",
       "<table border=\"1\" class=\"dataframe\">\n",
       "  <thead>\n",
       "    <tr style=\"text-align: right;\">\n",
       "      <th></th>\n",
       "      <th>id</th>\n",
       "      <th>reference_ids</th>\n",
       "      <th>Year</th>\n",
       "      <th>Journal_id</th>\n",
       "      <th>RPYear</th>\n",
       "      <th>RYear</th>\n",
       "      <th>RJournal_id</th>\n",
       "    </tr>\n",
       "  </thead>\n",
       "  <tbody>\n",
       "    <tr>\n",
       "      <th>0</th>\n",
       "      <td>pub.1148484199</td>\n",
       "      <td>pub.1013663776</td>\n",
       "      <td>2019.0</td>\n",
       "      <td>NaN</td>\n",
       "      <td>2014.0</td>\n",
       "      <td>2022.0</td>\n",
       "      <td>jour.1044393</td>\n",
       "    </tr>\n",
       "    <tr>\n",
       "      <th>1</th>\n",
       "      <td>pub.1128687208</td>\n",
       "      <td>pub.1003140261</td>\n",
       "      <td>2012.0</td>\n",
       "      <td>NaN</td>\n",
       "      <td>2000.0</td>\n",
       "      <td>2012.0</td>\n",
       "      <td>jour.1412991</td>\n",
       "    </tr>\n",
       "    <tr>\n",
       "      <th>2</th>\n",
       "      <td>pub.1148009542</td>\n",
       "      <td>pub.1146057724</td>\n",
       "      <td>2022.0</td>\n",
       "      <td>jour.1115238</td>\n",
       "      <td>2022.0</td>\n",
       "      <td>2023.0</td>\n",
       "      <td>jour.1043255</td>\n",
       "    </tr>\n",
       "    <tr>\n",
       "      <th>3</th>\n",
       "      <td>pub.1114696738</td>\n",
       "      <td>pub.1026667060</td>\n",
       "      <td>2015.0</td>\n",
       "      <td>jour.1050605</td>\n",
       "      <td>2015.0</td>\n",
       "      <td>2016.0</td>\n",
       "      <td>jour.1084523</td>\n",
       "    </tr>\n",
       "    <tr>\n",
       "      <th>4</th>\n",
       "      <td>pub.1114902564</td>\n",
       "      <td>pub.1028915017</td>\n",
       "      <td>2012.0</td>\n",
       "      <td>jour.1038288</td>\n",
       "      <td>1992.0</td>\n",
       "      <td>2016.0</td>\n",
       "      <td>jour.1077219</td>\n",
       "    </tr>\n",
       "    <tr>\n",
       "      <th>...</th>\n",
       "      <td>...</td>\n",
       "      <td>...</td>\n",
       "      <td>...</td>\n",
       "      <td>...</td>\n",
       "      <td>...</td>\n",
       "      <td>...</td>\n",
       "      <td>...</td>\n",
       "    </tr>\n",
       "    <tr>\n",
       "      <th>766248</th>\n",
       "      <td>pub.1134201694</td>\n",
       "      <td>pub.1113603600</td>\n",
       "      <td>2020.0</td>\n",
       "      <td>jour.1041030</td>\n",
       "      <td>2019.0</td>\n",
       "      <td>2023.0</td>\n",
       "      <td>jour.1036281</td>\n",
       "    </tr>\n",
       "    <tr>\n",
       "      <th>766249</th>\n",
       "      <td>pub.1016972058</td>\n",
       "      <td>pub.1008362454</td>\n",
       "      <td>2016.0</td>\n",
       "      <td>jour.1046517</td>\n",
       "      <td>2013.0</td>\n",
       "      <td>2018.0</td>\n",
       "      <td>jour.1327387</td>\n",
       "    </tr>\n",
       "    <tr>\n",
       "      <th>766250</th>\n",
       "      <td>pub.1085464507</td>\n",
       "      <td>pub.1039593849</td>\n",
       "      <td>2017.0</td>\n",
       "      <td>jour.1454776</td>\n",
       "      <td>2011.0</td>\n",
       "      <td>2018.0</td>\n",
       "      <td>jour.1082971</td>\n",
       "    </tr>\n",
       "    <tr>\n",
       "      <th>766251</th>\n",
       "      <td>pub.1124870274</td>\n",
       "      <td>pub.1124369222</td>\n",
       "      <td>2020.0</td>\n",
       "      <td>jour.1319730</td>\n",
       "      <td>2020.0</td>\n",
       "      <td>2020.0</td>\n",
       "      <td>jour.1095007</td>\n",
       "    </tr>\n",
       "    <tr>\n",
       "      <th>766252</th>\n",
       "      <td>pub.1022784437</td>\n",
       "      <td>pub.1037698336</td>\n",
       "      <td>2012.0</td>\n",
       "      <td>NaN</td>\n",
       "      <td>1994.0</td>\n",
       "      <td>2013.0</td>\n",
       "      <td>jour.1018957</td>\n",
       "    </tr>\n",
       "  </tbody>\n",
       "</table>\n",
       "<p>766253 rows × 7 columns</p>\n",
       "</div>"
      ],
      "text/plain": [
       "                    id   reference_ids    Year    Journal_id  RPYear   RYear  \\\n",
       "0       pub.1148484199  pub.1013663776  2019.0           NaN  2014.0  2022.0   \n",
       "1       pub.1128687208  pub.1003140261  2012.0           NaN  2000.0  2012.0   \n",
       "2       pub.1148009542  pub.1146057724  2022.0  jour.1115238  2022.0  2023.0   \n",
       "3       pub.1114696738  pub.1026667060  2015.0  jour.1050605  2015.0  2016.0   \n",
       "4       pub.1114902564  pub.1028915017  2012.0  jour.1038288  1992.0  2016.0   \n",
       "...                ...             ...     ...           ...     ...     ...   \n",
       "766248  pub.1134201694  pub.1113603600  2020.0  jour.1041030  2019.0  2023.0   \n",
       "766249  pub.1016972058  pub.1008362454  2016.0  jour.1046517  2013.0  2018.0   \n",
       "766250  pub.1085464507  pub.1039593849  2017.0  jour.1454776  2011.0  2018.0   \n",
       "766251  pub.1124870274  pub.1124369222  2020.0  jour.1319730  2020.0  2020.0   \n",
       "766252  pub.1022784437  pub.1037698336  2012.0           NaN  1994.0  2013.0   \n",
       "\n",
       "         RJournal_id  \n",
       "0       jour.1044393  \n",
       "1       jour.1412991  \n",
       "2       jour.1043255  \n",
       "3       jour.1084523  \n",
       "4       jour.1077219  \n",
       "...              ...  \n",
       "766248  jour.1036281  \n",
       "766249  jour.1327387  \n",
       "766250  jour.1082971  \n",
       "766251  jour.1095007  \n",
       "766252  jour.1018957  \n",
       "\n",
       "[766253 rows x 7 columns]"
      ]
     },
     "execution_count": 37,
     "metadata": {},
     "output_type": "execute_result"
    }
   ],
   "source": [
    "df_containretra"
   ]
  },
  {
   "cell_type": "markdown",
   "id": "c68b8e0b",
   "metadata": {},
   "source": [
    "### 检查每列NaN情况"
   ]
  },
  {
   "cell_type": "code",
   "execution_count": 38,
   "id": "61191198",
   "metadata": {},
   "outputs": [
    {
     "name": "stdout",
     "output_type": "stream",
     "text": [
      "每列 NaN 的数量：\n",
      "id                   0\n",
      "reference_ids        0\n",
      "Year                84\n",
      "Journal_id       71649\n",
      "RPYear            3985\n",
      "RYear             4786\n",
      "RJournal_id      25646\n",
      "dtype: int64\n"
     ]
    }
   ],
   "source": [
    "# 计算每列的 NaN 数量\n",
    "nan_counts = df_containretra.isna().sum()\n",
    "\n",
    "# 输出每列 NaN 的数量\n",
    "print(\"每列 NaN 的数量：\")\n",
    "print(nan_counts)\n"
   ]
  },
  {
   "cell_type": "markdown",
   "id": "a6c5d69b",
   "metadata": {},
   "source": [
    "### 保留不含NaN的行"
   ]
  },
  {
   "cell_type": "code",
   "execution_count": 39,
   "id": "ce9a99c6",
   "metadata": {},
   "outputs": [
    {
     "name": "stdout",
     "output_type": "stream",
     "text": [
      "\n",
      "删除了多少行（含有 NaN 的行）： 96608\n",
      "\n",
      "删除后每列 NaN 的数量：\n",
      "id               0\n",
      "reference_ids    0\n",
      "Year             0\n",
      "Journal_id       0\n",
      "RPYear           0\n",
      "RYear            0\n",
      "RJournal_id      0\n",
      "dtype: int64\n",
      "\n",
      "删除前的行数： 766253\n",
      "删除后的行数： 669645\n"
     ]
    }
   ],
   "source": [
    "# 计算删除前 DataFrame 的总行数\n",
    "total_rows_before = len(df_containretra)\n",
    "\n",
    "# 删除含有 NaN 的行\n",
    "df_containretra_cleaned = df_containretra.dropna(axis=0, how='any')\n",
    "\n",
    "# 计算删除后每列的 NaN 数量\n",
    "nan_counts_after = df_containretra_cleaned.isna().sum()\n",
    "\n",
    "# 计算删除后的 DataFrame 的总行数\n",
    "total_rows_after = len(df_containretra_cleaned)\n",
    "\n",
    "# 计算删除的行数\n",
    "rows_deleted = total_rows_before - total_rows_after\n",
    "\n",
    "# 输出结果\n",
    "print(\"\\n删除了多少行（含有 NaN 的行）：\", rows_deleted)\n",
    "print(\"\\n删除后每列 NaN 的数量：\")\n",
    "print(nan_counts_after)\n",
    "print(\"\\n删除前的行数：\", total_rows_before)\n",
    "print(\"删除后的行数：\", total_rows_after)"
   ]
  },
  {
   "cell_type": "code",
   "execution_count": 40,
   "id": "d708995b",
   "metadata": {},
   "outputs": [
    {
     "data": {
      "text/html": [
       "<div>\n",
       "<style scoped>\n",
       "    .dataframe tbody tr th:only-of-type {\n",
       "        vertical-align: middle;\n",
       "    }\n",
       "\n",
       "    .dataframe tbody tr th {\n",
       "        vertical-align: top;\n",
       "    }\n",
       "\n",
       "    .dataframe thead th {\n",
       "        text-align: right;\n",
       "    }\n",
       "</style>\n",
       "<table border=\"1\" class=\"dataframe\">\n",
       "  <thead>\n",
       "    <tr style=\"text-align: right;\">\n",
       "      <th></th>\n",
       "      <th>id</th>\n",
       "      <th>reference_ids</th>\n",
       "      <th>Year</th>\n",
       "      <th>Journal_id</th>\n",
       "      <th>RPYear</th>\n",
       "      <th>RYear</th>\n",
       "      <th>RJournal_id</th>\n",
       "    </tr>\n",
       "  </thead>\n",
       "  <tbody>\n",
       "    <tr>\n",
       "      <th>2</th>\n",
       "      <td>pub.1148009542</td>\n",
       "      <td>pub.1146057724</td>\n",
       "      <td>2022.0</td>\n",
       "      <td>jour.1115238</td>\n",
       "      <td>2022.0</td>\n",
       "      <td>2023.0</td>\n",
       "      <td>jour.1043255</td>\n",
       "    </tr>\n",
       "    <tr>\n",
       "      <th>3</th>\n",
       "      <td>pub.1114696738</td>\n",
       "      <td>pub.1026667060</td>\n",
       "      <td>2015.0</td>\n",
       "      <td>jour.1050605</td>\n",
       "      <td>2015.0</td>\n",
       "      <td>2016.0</td>\n",
       "      <td>jour.1084523</td>\n",
       "    </tr>\n",
       "    <tr>\n",
       "      <th>4</th>\n",
       "      <td>pub.1114902564</td>\n",
       "      <td>pub.1028915017</td>\n",
       "      <td>2012.0</td>\n",
       "      <td>jour.1038288</td>\n",
       "      <td>1992.0</td>\n",
       "      <td>2016.0</td>\n",
       "      <td>jour.1077219</td>\n",
       "    </tr>\n",
       "    <tr>\n",
       "      <th>7</th>\n",
       "      <td>pub.1107325835</td>\n",
       "      <td>pub.1003143127</td>\n",
       "      <td>2018.0</td>\n",
       "      <td>jour.1030157</td>\n",
       "      <td>2006.0</td>\n",
       "      <td>2018.0</td>\n",
       "      <td>jour.1030157</td>\n",
       "    </tr>\n",
       "    <tr>\n",
       "      <th>8</th>\n",
       "      <td>pub.1011260253</td>\n",
       "      <td>pub.1032808220</td>\n",
       "      <td>2008.0</td>\n",
       "      <td>jour.1013016</td>\n",
       "      <td>2005.0</td>\n",
       "      <td>2007.0</td>\n",
       "      <td>jour.1013016</td>\n",
       "    </tr>\n",
       "    <tr>\n",
       "      <th>...</th>\n",
       "      <td>...</td>\n",
       "      <td>...</td>\n",
       "      <td>...</td>\n",
       "      <td>...</td>\n",
       "      <td>...</td>\n",
       "      <td>...</td>\n",
       "      <td>...</td>\n",
       "    </tr>\n",
       "    <tr>\n",
       "      <th>766247</th>\n",
       "      <td>pub.1130857724</td>\n",
       "      <td>pub.1117049318</td>\n",
       "      <td>2020.0</td>\n",
       "      <td>jour.1136301</td>\n",
       "      <td>2019.0</td>\n",
       "      <td>2023.0</td>\n",
       "      <td>jour.1138382</td>\n",
       "    </tr>\n",
       "    <tr>\n",
       "      <th>766248</th>\n",
       "      <td>pub.1134201694</td>\n",
       "      <td>pub.1113603600</td>\n",
       "      <td>2020.0</td>\n",
       "      <td>jour.1041030</td>\n",
       "      <td>2019.0</td>\n",
       "      <td>2023.0</td>\n",
       "      <td>jour.1036281</td>\n",
       "    </tr>\n",
       "    <tr>\n",
       "      <th>766249</th>\n",
       "      <td>pub.1016972058</td>\n",
       "      <td>pub.1008362454</td>\n",
       "      <td>2016.0</td>\n",
       "      <td>jour.1046517</td>\n",
       "      <td>2013.0</td>\n",
       "      <td>2018.0</td>\n",
       "      <td>jour.1327387</td>\n",
       "    </tr>\n",
       "    <tr>\n",
       "      <th>766250</th>\n",
       "      <td>pub.1085464507</td>\n",
       "      <td>pub.1039593849</td>\n",
       "      <td>2017.0</td>\n",
       "      <td>jour.1454776</td>\n",
       "      <td>2011.0</td>\n",
       "      <td>2018.0</td>\n",
       "      <td>jour.1082971</td>\n",
       "    </tr>\n",
       "    <tr>\n",
       "      <th>766251</th>\n",
       "      <td>pub.1124870274</td>\n",
       "      <td>pub.1124369222</td>\n",
       "      <td>2020.0</td>\n",
       "      <td>jour.1319730</td>\n",
       "      <td>2020.0</td>\n",
       "      <td>2020.0</td>\n",
       "      <td>jour.1095007</td>\n",
       "    </tr>\n",
       "  </tbody>\n",
       "</table>\n",
       "<p>669645 rows × 7 columns</p>\n",
       "</div>"
      ],
      "text/plain": [
       "                    id   reference_ids    Year    Journal_id  RPYear   RYear  \\\n",
       "2       pub.1148009542  pub.1146057724  2022.0  jour.1115238  2022.0  2023.0   \n",
       "3       pub.1114696738  pub.1026667060  2015.0  jour.1050605  2015.0  2016.0   \n",
       "4       pub.1114902564  pub.1028915017  2012.0  jour.1038288  1992.0  2016.0   \n",
       "7       pub.1107325835  pub.1003143127  2018.0  jour.1030157  2006.0  2018.0   \n",
       "8       pub.1011260253  pub.1032808220  2008.0  jour.1013016  2005.0  2007.0   \n",
       "...                ...             ...     ...           ...     ...     ...   \n",
       "766247  pub.1130857724  pub.1117049318  2020.0  jour.1136301  2019.0  2023.0   \n",
       "766248  pub.1134201694  pub.1113603600  2020.0  jour.1041030  2019.0  2023.0   \n",
       "766249  pub.1016972058  pub.1008362454  2016.0  jour.1046517  2013.0  2018.0   \n",
       "766250  pub.1085464507  pub.1039593849  2017.0  jour.1454776  2011.0  2018.0   \n",
       "766251  pub.1124870274  pub.1124369222  2020.0  jour.1319730  2020.0  2020.0   \n",
       "\n",
       "         RJournal_id  \n",
       "2       jour.1043255  \n",
       "3       jour.1084523  \n",
       "4       jour.1077219  \n",
       "7       jour.1030157  \n",
       "8       jour.1013016  \n",
       "...              ...  \n",
       "766247  jour.1138382  \n",
       "766248  jour.1036281  \n",
       "766249  jour.1327387  \n",
       "766250  jour.1082971  \n",
       "766251  jour.1095007  \n",
       "\n",
       "[669645 rows x 7 columns]"
      ]
     },
     "execution_count": 40,
     "metadata": {},
     "output_type": "execute_result"
    }
   ],
   "source": [
    "df_containretra_cleaned"
   ]
  },
  {
   "cell_type": "markdown",
   "id": "a8f966a1",
   "metadata": {},
   "source": [
    "### 匹配文件保存与备份"
   ]
  },
  {
   "cell_type": "code",
   "execution_count": 41,
   "id": "b87f8e10",
   "metadata": {},
   "outputs": [
    {
     "data": {
      "text/plain": [
       "'\\n数据结构为：\\n\\t            id\\treference_ids\\tYear\\t Journal_id\\t    RPYear\\tRYear\\tRJournal_id\\n2\\tpub.1148009542\\tpub.1146057724\\t2022.0\\tjour.1115238\\t2022.0\\t2023.0\\tjour.1043255\\n3\\tpub.1114696738\\tpub.1026667060\\t2015.0\\tjour.1050605\\t2015.0\\t2016.0\\tjour.1084523\\n4\\tpub.1114902564\\tpub.1028915017\\t2012.0\\tjour.1038288\\t1992.0\\t2016.0\\tjour.1077219\\n7\\tpub.1107325835\\tpub.1003143127\\t2018.0\\tjour.1030157\\t2006.0\\t2018.0\\tjour.1030157\\n8\\tpub.1011260253\\tpub.1032808220\\t2008.0\\tjour.1013016\\t2005.0\\t2007.0\\tjour.1013016\\n...\\t...\\t...\\t...\\t...\\t...\\t...\\t...\\n'"
      ]
     },
     "execution_count": 41,
     "metadata": {},
     "output_type": "execute_result"
    }
   ],
   "source": [
    "output_path = '/Data4/yutao_wen/25.9.17/df_containretra2.csv'\n",
    "# 保存为 CSV 文件\n",
    "df_containretra_cleaned.to_csv(output_path, index=False)\n",
    "'''\n",
    "数据结构为：\n",
    "\t            id\treference_ids\tYear\t Journal_id\t    RPYear\tRYear\tRJournal_id\n",
    "2\tpub.1148009542\tpub.1146057724\t2022.0\tjour.1115238\t2022.0\t2023.0\tjour.1043255\n",
    "3\tpub.1114696738\tpub.1026667060\t2015.0\tjour.1050605\t2015.0\t2016.0\tjour.1084523\n",
    "4\tpub.1114902564\tpub.1028915017\t2012.0\tjour.1038288\t1992.0\t2016.0\tjour.1077219\n",
    "7\tpub.1107325835\tpub.1003143127\t2018.0\tjour.1030157\t2006.0\t2018.0\tjour.1030157\n",
    "8\tpub.1011260253\tpub.1032808220\t2008.0\tjour.1013016\t2005.0\t2007.0\tjour.1013016\n",
    "...\t...\t...\t...\t...\t...\t...\t...\n",
    "'''"
   ]
  },
  {
   "cell_type": "markdown",
   "id": "0d7d3239",
   "metadata": {},
   "source": [
    "## STEP3——筛选出合理目标论文"
   ]
  },
  {
   "cell_type": "code",
   "execution_count": 42,
   "id": "0cd34bee",
   "metadata": {},
   "outputs": [],
   "source": [
    "#主要是对STEP2的数据进行无关对象清除\n",
    "#因为我们关注的目标论文是：\n",
    "# （1）参考文献仅仅有一篇被撤稿\n",
    "# （2）而且撤稿时间在2023年之前\n",
    "# （3）引用论文的时候该被引论文尚未被撤稿\n",
    "# （4）自己本身没被撤稿\n",
    "#Exclude data ————— 主要有四部分被去掉\n",
    "#(1) cited more than one retracted paper\n",
    "#(2) retracted in 2023 or 2024\n",
    "#(3) citing papers that were themselves retracted\n",
    "#(4) The paper itself was retracted"
   ]
  },
  {
   "cell_type": "markdown",
   "id": "561e6764",
   "metadata": {},
   "source": [
    "### 导入STEP2终文件df_containretra2"
   ]
  },
  {
   "cell_type": "code",
   "execution_count": 43,
   "id": "1a2e5b5c",
   "metadata": {},
   "outputs": [],
   "source": [
    "df_containretra2 = '/Data4/yutao_wen/25.9.17/df_containretra2.csv'\n",
    "df_containretra2 = pd.read_csv(df_containretra2)"
   ]
  },
  {
   "cell_type": "markdown",
   "id": "4c6d944a",
   "metadata": {},
   "source": [
    "### （1）删除参考文献有一篇以上被撤稿的"
   ]
  },
  {
   "cell_type": "code",
   "execution_count": 44,
   "id": "248ad198",
   "metadata": {},
   "outputs": [
    {
     "name": "stdout",
     "output_type": "stream",
     "text": [
      "原来有 669645 行\n",
      "去除重复 id 后有 499051 行\n",
      "共删除了 170594 行\n"
     ]
    }
   ],
   "source": [
    "#(1)cited more than one retracted paper\n",
    "#需要先去掉参考文献被撤稿了2篇及以上的目标论文，因为这部分的撤稿冲击存在多个时间点，分析复杂，暂不考虑\n",
    "df_containretra_copy = df_containretra2.copy()\n",
    "\n",
    "# 统计原始行数\n",
    "original_count = len(df_containretra_copy)\n",
    "\n",
    "# 删除所有出现两次及以上的 id 的行\n",
    "df_containretra_copy = df_containretra_copy[~df_containretra_copy['id'].duplicated(keep=False)]\n",
    "\n",
    "# 统计删减后行数\n",
    "filtered_count = len(df_containretra_copy)\n",
    "\n",
    "# 输出对比信息\n",
    "print(f\"原来有 {original_count} 行\")\n",
    "print(f\"去除重复 id 后有 {filtered_count} 行\")\n",
    "print(f\"共删除了 {original_count - filtered_count} 行\")"
   ]
  },
  {
   "cell_type": "markdown",
   "id": "b74f5632",
   "metadata": {},
   "source": [
    "### （2）删除参考文献在2023、2024被撤稿的"
   ]
  },
  {
   "cell_type": "code",
   "execution_count": 45,
   "id": "7e5e8ee8",
   "metadata": {},
   "outputs": [
    {
     "name": "stdout",
     "output_type": "stream",
     "text": [
      "原来有 499051 行\n",
      "删减后有 363465 行\n",
      "共删除了 135586 行\n"
     ]
    }
   ],
   "source": [
    "#(2)retracted in 2023 or 2024\n",
    "#去掉2023年、2024年被撤稿的参考文献部分\n",
    "#因为需要研究撤稿后的趋势，这两年撤稿的文章后续时期的数据太少了，不便于分析\n",
    "# 创建副本，避免修改原始数据\n",
    "\n",
    "# 记录原始行数\n",
    "original_count = len(df_containretra_copy)\n",
    "\n",
    "# 去掉 RPYear 为 2023 或 2024 的行\n",
    "df_containretra_copy = df_containretra_copy[~df_containretra_copy['RYear'].isin([2023.0, 2024.0])]\n",
    "\n",
    "# 记录删减后行数\n",
    "filtered_count = len(df_containretra_copy)\n",
    "\n",
    "# 输出行数信息\n",
    "print(f\"原来有 {original_count} 行\")\n",
    "print(f\"删减后有 {filtered_count} 行\")\n",
    "print(f\"共删除了 {original_count - filtered_count} 行\")"
   ]
  },
  {
   "cell_type": "markdown",
   "id": "d3aad9f6",
   "metadata": {},
   "source": [
    "### （3）删除引用参考文献时就已被撤稿的"
   ]
  },
  {
   "cell_type": "code",
   "execution_count": 46,
   "id": "4cabe8b9",
   "metadata": {},
   "outputs": [
    {
     "name": "stdout",
     "output_type": "stream",
     "text": [
      "原来有 363465 行\n",
      "删除 RYear-Year < 0 的行数：143452\n",
      "剩余 220013 行\n"
     ]
    }
   ],
   "source": [
    "#(3)citing papers that were themselves retracted\n",
    "#发现存在有的论文引用了已经被撤稿的论文，数学表现形式即———— RYear-Year < 0，需要删除\n",
    "# 创建新列 RYear-Year\n",
    "df_containretra_copy['RYear-Year'] = df_containretra_copy['RYear'] - df_containretra_copy['Year']\n",
    "\n",
    "# 记录原始行数\n",
    "original_count = len(df_containretra_copy)\n",
    "\n",
    "# 删除 RYear-Year 小于 0 的行\n",
    "df_containretra_copy = df_containretra_copy[df_containretra_copy['RYear-Year'] >= 0]\n",
    "\n",
    "# 删除后行数\n",
    "remaining_count = len(df_containretra_copy)\n",
    "\n",
    "# 打印统计信息\n",
    "print(f\"原来有 {original_count} 行\")\n",
    "print(f\"删除 RYear-Year < 0 的行数：{original_count - remaining_count}\")\n",
    "print(f\"剩余 {remaining_count} 行\")"
   ]
  },
  {
   "cell_type": "markdown",
   "id": "f82d98a4",
   "metadata": {},
   "source": [
    "### （4）删除自己本身也被撤稿的论文"
   ]
  },
  {
   "cell_type": "code",
   "execution_count": 47,
   "id": "cf077732",
   "metadata": {},
   "outputs": [
    {
     "name": "stdout",
     "output_type": "stream",
     "text": [
      "原来有 220013 行\n",
      "删除本身被撤稿的论文后，剩余 217296 行\n",
      "共删除了 2717 行\n"
     ]
    }
   ],
   "source": [
    "#(4)The paper itself was retracted\n",
    "#还有本身自己就被撤稿的论文\n",
    "#检查 df_containretra_copy的id列中的id是否有出现在那4w篇撤稿文章id（df_retrapapers）中\n",
    "#如果出现了就需要删除这些行\n",
    "# 统计原始行数\n",
    "original_count = len(df_containretra_copy)\n",
    "\n",
    "# 删除df_containretra_copy中id在撤稿论文id列表中的行\n",
    "df_containretra_copy = df_containretra_copy[~df_containretra_copy['id'].isin(df_retrapapers['id'])]\n",
    "\n",
    "# 统计删减后行数\n",
    "filtered_count = len(df_containretra_copy)\n",
    "\n",
    "# 输出统计信息\n",
    "print(f\"原来有 {original_count} 行\")\n",
    "print(f\"删除本身被撤稿的论文后，剩余 {filtered_count} 行\")\n",
    "print(f\"共删除了 {original_count - filtered_count} 行\")"
   ]
  }
 ],
 "metadata": {
  "kernelspec": {
   "display_name": "Python 3",
   "language": "python",
   "name": "python3"
  },
  "language_info": {
   "codemirror_mode": {
    "name": "ipython",
    "version": 3
   },
   "file_extension": ".py",
   "mimetype": "text/x-python",
   "name": "python",
   "nbconvert_exporter": "python",
   "pygments_lexer": "ipython3",
   "version": "3.8.10"
  }
 },
 "nbformat": 4,
 "nbformat_minor": 5
}
