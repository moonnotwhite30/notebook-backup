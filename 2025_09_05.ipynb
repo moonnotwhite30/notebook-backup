{
 "cells": [
  {
   "cell_type": "code",
   "execution_count": null,
   "id": "f8c16b61",
   "metadata": {},
   "outputs": [],
   "source": [
    "###关于数据的保存：在bash运行——./save.sh \"这里写修改说明\"###\n",
    "\n",
    "#===========================================================#\n",
    "#####################总体思路梳理############################\n",
    "#===========================================================#\n",
    "####################模块1：得到目标论文######################\n",
    "#2025.09.18#"
   ]
  },
  {
   "cell_type": "code",
   "execution_count": null,
   "id": "8bda46a9",
   "metadata": {},
   "outputs": [],
   "source": []
  }
 ],
 "metadata": {
  "language_info": {
   "name": "python"
  }
 },
 "nbformat": 4,
 "nbformat_minor": 5
}
