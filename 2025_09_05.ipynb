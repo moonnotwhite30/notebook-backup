{
 "cells": [
  {
   "cell_type": "code",
   "execution_count": null,
   "id": "f8c16b61",
   "metadata": {},
   "outputs": [],
   "source": [
    "###关于数据的保存：在bash运行——./save.sh \"这里写修改说明\"###\n",
    "\n",
    "#===========================================================#\n",
    "#####################总体思路梳理############################\n",
    "#===========================================================#\n",
    "##################模块一：得到目标论文序列####################\n",
    "#STEP1————匹配\n",
    "#将论文引用关系原始数据与撤稿论文序列进行匹配，目的是得到所有引用了撤稿论文的论文\n",
    "\n",
    "\n"
   ]
  },
  {
   "cell_type": "markdown",
   "id": "8ce2f15a",
   "metadata": {},
   "source": [
    "# 前期准备模块"
   ]
  },
  {
   "cell_type": "markdown",
   "id": "f62c912b",
   "metadata": {},
   "source": [
    "## 库的导入"
   ]
  },
  {
   "cell_type": "code",
   "execution_count": null,
   "id": "7583becd",
   "metadata": {},
   "outputs": [],
   "source": [
    "###########################这一单元模块专门用于导入需要用到的库####################################\n",
    "\n",
    "import pandas as pd #基础的数据处理\n",
    "import os \n",
    "#Python 中的一条指令，用于导入内置的os模块。\n",
    "#os模块提供了与操作系统交互的功能，允许你执行文件和目录的操作\n",
    "#如路径管理、文件创建、删除等\n",
    "import json #用于处理json数据的库\n",
    "from tqdm import tqdm\n",
    "import math # 用于检测 NaN\n",
    "from collections import Counter #Python标准库collections里的的工具，用来统计元素出现的次数\n",
    "from collections import defaultdict \n",
    "'''\n",
    "collections 是 Python 自带的一个模块，\n",
    "里面提供了许多有用的容器数据类型，比如 Counter、deque、namedtuple、defaultdict 等。\n",
    "defaultdict 是一个字典的子类，它和普通字典类似，\n",
    "但当你访问一个不存在的键时，它会自动帮你创建一个默认值，而不是抛出 KeyError。\n",
    "'''\n",
    "import numpy as np\n",
    "import seaborn as sns\n",
    "import matplotlib.pyplot as plt\n",
    "import ast"
   ]
  },
  {
   "cell_type": "markdown",
   "id": "f3b2052e",
   "metadata": {},
   "source": [
    "## 查看大体量数据的前十行（CSV/EXCEL/JSON）"
   ]
  },
  {
   "cell_type": "code",
   "execution_count": null,
   "id": "1352431e",
   "metadata": {},
   "outputs": [],
   "source": [
    "###########数据前10行展示##############\n",
    "######用来判断太大数据的数据结构########\n",
    "#CSV文件：\n",
    "file_csv = '/Data1/DATA/Dimensions2024/20240101/Papers.csv'\n",
    "df_csv = pd.read_csv(file_csv, nrows=10)\n",
    "df_csv"
   ]
  },
  {
   "cell_type": "code",
   "execution_count": null,
   "id": "ee030a2e",
   "metadata": {},
   "outputs": [],
   "source": [
    "#EXCEL文件：\n",
    "file_excel = ''\n",
    "df_excel = pd.read_excel(file_excel, nrows=10)\n",
    "df_excel"
   ]
  },
  {
   "cell_type": "code",
   "execution_count": null,
   "id": "cda25dad",
   "metadata": {},
   "outputs": [],
   "source": [
    "#JSON文件：\n",
    "file_json = 'JSON文件路径.json'\n",
    "df_json = pd.read_json(file_json)\n",
    "df_json"
   ]
  },
  {
   "cell_type": "markdown",
   "id": "0f3952f3",
   "metadata": {},
   "source": [
    "## 查看CSV文件列名"
   ]
  },
  {
   "cell_type": "code",
   "execution_count": null,
   "id": "69bc1f2e",
   "metadata": {},
   "outputs": [],
   "source": [
    "#看df文件的列名\n",
    "print(NewE_C_10_10 .columns)"
   ]
  },
  {
   "cell_type": "markdown",
   "id": "27e69647",
   "metadata": {},
   "source": [
    "# 模块一：得到目标论文序列"
   ]
  },
  {
   "cell_type": "markdown",
   "id": "9ec95b8d",
   "metadata": {},
   "source": [
    "## STEP1————匹配"
   ]
  },
  {
   "cell_type": "code",
   "execution_count": null,
   "id": "8bda46a9",
   "metadata": {},
   "outputs": [],
   "source": [
    "#这个部分需要两个原始数据\n",
    "#（1）原始数据1：论文与其参考文献的对应关系（/Data1/DATA/Dimensions2024/20240101/PaperReferences.csv）\n",
    "'''\n",
    "df数据结构：\n",
    "    id\t            reference_ids\n",
    "0\tpub.1038660625\tpub.1043519304\n",
    "1\tpub.1038660625\tpub.1012015875\n",
    "2\tpub.1038660625\tpub.1031233780\n",
    "3\tpub.1038660625\tpub.1027495706\n",
    "'''\n",
    "#（2）原始数据2：4w篇撤稿论文的原始数据（/Data4/yutao_wen/matched_output2.csv）\n",
    "'''\n",
    "df数据结构（列名与数据类型）\n",
    "Index(['UT', 'Paper_doi', 'Note_doi', 'Title', 'Journal', 'ISOAbbr',\n",
    "       'Publisher', 'Article', 'Review', 'Institute', 'City', 'Country',\n",
    "       'First', 'RP', 'Micro_topics', 'Meso_topics', 'Macro_topics', '3Years',\n",
    "       '5Years', 'Total', 'Fund', 'Year', 'RYear', 'publish_date',\n",
    "       'retraction_date', 'Open Access', 'Tags', 'Type', 'note_URL', 'Authors',\n",
    "       'Addresses', 'Affiliations', 'PaperID', 'id', 'title', 'doi', 'date',\n",
    "       'journal.id'],\n",
    "      dtype='object')\n",
    "'''\n"
   ]
  },
  {
   "cell_type": "markdown",
   "id": "76768c76",
   "metadata": {},
   "source": [
    "### 原始数据1与2的导入——30MIN"
   ]
  },
  {
   "cell_type": "code",
   "execution_count": null,
   "id": "b80da034",
   "metadata": {},
   "outputs": [],
   "source": [
    "#先将两个原始文件都导入内核中\n",
    "original_file1 = '/Data1/DATA/Dimensions2024/20240101/PaperReferences.csv'\n",
    "df_references = pd.read_csv(original_file1)\n",
    "original_file2 = '/Data4/yutao_wen/matched_output2.csv'\n",
    "df_retrapapers = pd.read_csv(original_file2)\n",
    "#time约30min"
   ]
  },
  {
   "cell_type": "markdown",
   "id": "b21259db",
   "metadata": {},
   "source": [
    "### 使用布尔索引匹配2个df——12MIN"
   ]
  },
  {
   "cell_type": "code",
   "execution_count": null,
   "id": "f230220f",
   "metadata": {},
   "outputs": [],
   "source": [
    "# 保证reference_ids和撤稿论文id列的数据类型一致（通常为字符串）\n",
    "df_references['reference_ids'] = df_references['reference_ids'].astype(str)\n",
    "df_retrapapers['id'] = df_retrapapers['id'].astype(str)\n",
    "\n",
    "# 使用布尔索引保留reference_ids出现在撤稿论文id中的行\n",
    "df_containretra = df_references[df_references['reference_ids'].isin(df_retrapapers['id'])].copy()\n",
    "#time约12min"
   ]
  },
  {
   "cell_type": "markdown",
   "id": "9654b6a1",
   "metadata": {},
   "source": [
    "### 匹配产出文件df_containretra预览"
   ]
  },
  {
   "cell_type": "code",
   "execution_count": null,
   "id": "8b158bb2",
   "metadata": {},
   "outputs": [],
   "source": [
    "df_containretra"
   ]
  },
  {
   "cell_type": "markdown",
   "id": "ca4bad5a",
   "metadata": {},
   "source": [
    "### 匹配文件保存备份"
   ]
  },
  {
   "cell_type": "code",
   "execution_count": null,
   "id": "93f19148",
   "metadata": {},
   "outputs": [],
   "source": [
    "output_path = '/Data4/yutao_wen/5.21/process/df_containretra.csv'\n",
    "# 保存为 CSV 文件\n",
    "df_containretra.to_csv(output_path, index=False)"
   ]
  },
  {
   "cell_type": "code",
   "execution_count": null,
   "id": "b74507e7",
   "metadata": {},
   "outputs": [],
   "source": []
  },
  {
   "cell_type": "code",
   "execution_count": null,
   "id": "4e43c12a",
   "metadata": {},
   "outputs": [],
   "source": []
  }
 ],
 "metadata": {
  "kernelspec": {
   "display_name": "Python 3",
   "language": "python",
   "name": "python3"
  },
  "language_info": {
   "codemirror_mode": {
    "name": "ipython",
    "version": 3
   },
   "file_extension": ".py",
   "mimetype": "text/x-python",
   "name": "python",
   "nbconvert_exporter": "python",
   "pygments_lexer": "ipython3",
   "version": "3.8.10"
  }
 },
 "nbformat": 4,
 "nbformat_minor": 5
}
